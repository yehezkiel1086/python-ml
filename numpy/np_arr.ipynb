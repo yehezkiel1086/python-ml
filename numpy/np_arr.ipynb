{
 "cells": [
  {
   "cell_type": "markdown",
   "id": "4c369438",
   "metadata": {},
   "source": [
    "# Numpy\n",
    "\n",
    "NumPy is used for working with arrays."
   ]
  },
  {
   "cell_type": "code",
   "execution_count": 2,
   "id": "ee8be7bb",
   "metadata": {},
   "outputs": [
    {
     "name": "stdout",
     "output_type": "stream",
     "text": [
      "[5 2 4 3 1] <class 'numpy.ndarray'> 2.2.5\n"
     ]
    }
   ],
   "source": [
    "import numpy as np\n",
    "\n",
    "arr = np.array([5, 2, 4, 3, 1])\n",
    "\n",
    "print(arr, type(arr), np.__version__)"
   ]
  },
  {
   "cell_type": "code",
   "execution_count": null,
   "id": "5308e083",
   "metadata": {},
   "outputs": [
    {
     "name": "stdout",
     "output_type": "stream",
     "text": [
      "0 1 2 3 5\n"
     ]
    }
   ],
   "source": [
    "# create multi dimension ndarrays\n",
    "\n",
    "arr = np.array(1)\n",
    "arr1 = np.array([5, 1, 4, 2, 3])\n",
    "arr2 = np.array([[1, 4, 2], [5, 3, 6]])\n",
    "arr3 = np.array([[[1, 3, 2], [4, 6, 5]], [[1, 2, 3], [4, 5, 6]]])\n",
    "arr5 = np.array([1, 3, 2, 5, 4], ndmin=5) # 5 dimensional array\n",
    "\n",
    "print(arr.ndim, arr1.ndim, arr2.ndim, arr3.ndim, arr5.ndim)"
   ]
  },
  {
   "cell_type": "code",
   "execution_count": 10,
   "id": "3ade2b1c",
   "metadata": {},
   "outputs": [
    {
     "name": "stdout",
     "output_type": "stream",
     "text": [
      "1 5 4 5 1\n"
     ]
    }
   ],
   "source": [
    "# array indexing\n",
    "print(arr, arr1[0], arr2[0, 1], arr3[0, 1, 2], arr5[0, 0, 0, 0, 0])"
   ]
  },
  {
   "cell_type": "code",
   "execution_count": null,
   "id": "a38ea165",
   "metadata": {},
   "outputs": [],
   "source": []
  }
 ],
 "metadata": {
  "kernelspec": {
   "display_name": ".venv",
   "language": "python",
   "name": "python3"
  },
  "language_info": {
   "codemirror_mode": {
    "name": "ipython",
    "version": 3
   },
   "file_extension": ".py",
   "mimetype": "text/x-python",
   "name": "python",
   "nbconvert_exporter": "python",
   "pygments_lexer": "ipython3",
   "version": "3.13.2"
  }
 },
 "nbformat": 4,
 "nbformat_minor": 5
}
