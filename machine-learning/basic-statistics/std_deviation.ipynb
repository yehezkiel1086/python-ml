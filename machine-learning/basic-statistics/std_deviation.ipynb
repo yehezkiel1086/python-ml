{
 "cells": [
  {
   "cell_type": "markdown",
   "id": "03ea8e4e",
   "metadata": {},
   "source": [
    "# Standard Deviation\n",
    "\n",
    "### Standard Deviation\n",
    "\n",
    "Standard deviation is a number that describes how spread out the values are.\n",
    "\n",
    "A low standard deviation means that most of the numbers are close to the mean (average) value.\n",
    "\n",
    "A high standard deviation means that the values are spread out over a wider range. (W3Schools)\n",
    "\n",
    "### Variance\n",
    "\n",
    "Variance is another number that indicates how spread out the values are.\n",
    "\n",
    "In fact, if you take the square root of the variance, you get the standard deviation!\n",
    "\n",
    "Or the other way around, if you multiply the standard deviation by itself, you get the variance! (W3Schools)\n",
    "\n",
    "### Cases\n",
    "\n",
    "1. Find the standard deviation and variance of the following dataset:\n",
    "\n",
    "    ```py\n",
    "    speed = [86,87,88,86,87,85,86]\n",
    "    ```\n",
    "\n",
    "2. Find the standard deviation and variance of the following dataset:\n",
    "\n",
    "    ```py\n",
    "    speed = [32,111,138,28,59,77,97] \n",
    "    ```"
   ]
  },
  {
   "cell_type": "code",
   "execution_count": 4,
   "id": "e4c21609",
   "metadata": {},
   "outputs": [
    {
     "name": "stdout",
     "output_type": "stream",
     "text": [
      "Standard deviation: 0.9035079029052513, Variance: 0.8163265306122449\n"
     ]
    }
   ],
   "source": [
    "import numpy\n",
    "\n",
    "# case 1\n",
    "speed = [86,87,88,86,87,85,86]\n",
    "\n",
    "std_dev = numpy.std(speed)\n",
    "\n",
    "var = numpy.var(speed)\n",
    "\n",
    "print(f\"Standard deviation: {std_dev}, Variance: {var}\")"
   ]
  },
  {
   "cell_type": "code",
   "execution_count": 5,
   "id": "19c8f1bb",
   "metadata": {},
   "outputs": [
    {
     "name": "stdout",
     "output_type": "stream",
     "text": [
      "Standard deviation: 37.84501153334721, Variance: 1432.2448979591834\n"
     ]
    }
   ],
   "source": [
    "# case 2\n",
    "speed = [32,111,138,28,59,77,97]\n",
    "\n",
    "std_dev = numpy.std(speed)\n",
    "\n",
    "var = numpy.var(speed)\n",
    "\n",
    "print(f\"Standard deviation: {std_dev}, Variance: {var}\")"
   ]
  }
 ],
 "metadata": {
  "kernelspec": {
   "display_name": ".venv",
   "language": "python",
   "name": "python3"
  },
  "language_info": {
   "codemirror_mode": {
    "name": "ipython",
    "version": 3
   },
   "file_extension": ".py",
   "mimetype": "text/x-python",
   "name": "python",
   "nbconvert_exporter": "python",
   "pygments_lexer": "ipython3",
   "version": "3.13.2"
  }
 },
 "nbformat": 4,
 "nbformat_minor": 5
}
