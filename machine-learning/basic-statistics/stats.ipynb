{
 "cells": [
  {
   "cell_type": "markdown",
   "id": "79aefb80",
   "metadata": {},
   "source": [
    "# Basic Statistics\n",
    "\n",
    "In Machine Learning (and in mathematics) there are often three values that interests us:\n",
    "- Mean - The average value\n",
    "- Median - The mid point value\n",
    "- Mode - The most common value\n",
    "\n",
    "Case:\n",
    "\n",
    "Find the mean, median and mode of the following dataset:"
   ]
  },
  {
   "cell_type": "code",
   "execution_count": 1,
   "id": "b425bc5b",
   "metadata": {},
   "outputs": [],
   "source": [
    "speed = [99,86,87,88,111,86,103,87,94,78,77,85,86]"
   ]
  },
  {
   "cell_type": "code",
   "execution_count": 6,
   "id": "17a39d81",
   "metadata": {},
   "outputs": [
    {
     "name": "stdout",
     "output_type": "stream",
     "text": [
      "Mean: 89.76923076923077\n",
      "Median: 87.0\n",
      "Mode: 86\n"
     ]
    }
   ],
   "source": [
    "import numpy\n",
    "from scipy import stats\n",
    "\n",
    "mean_result = numpy.mean(speed)\n",
    "median_result = numpy.median(speed)\n",
    "mode_result, mode_tt = stats.mode(speed)\n",
    "\n",
    "print(f\"Mean: {mean_result}\")\n",
    "print(f\"Median: {median_result}\")\n",
    "print(f\"Mode: {mode_result}\")"
   ]
  }
 ],
 "metadata": {
  "kernelspec": {
   "display_name": ".venv",
   "language": "python",
   "name": "python3"
  },
  "language_info": {
   "codemirror_mode": {
    "name": "ipython",
    "version": 3
   },
   "file_extension": ".py",
   "mimetype": "text/x-python",
   "name": "python",
   "nbconvert_exporter": "python",
   "pygments_lexer": "ipython3",
   "version": "3.13.2"
  }
 },
 "nbformat": 4,
 "nbformat_minor": 5
}
