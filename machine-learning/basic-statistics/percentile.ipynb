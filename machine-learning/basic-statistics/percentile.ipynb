{
 "cells": [
  {
   "cell_type": "markdown",
   "id": "b554965b",
   "metadata": {},
   "source": [
    "# Percentile\n",
    "\n",
    "Percentiles are used in statistics to give you a number that describes the value that a given percent of the values are lower than. (W3Schools)\n",
    "\n",
    "In statistics, a k-th percentile, also known as percentile score or centile, is a score (e.g., a data point) below which a given percentage k of all scores in its frequency distribution exists (\"exclusive\" definition) or a score at or below which a given percentage of the all scores exists (\"inclusive\" definition); i.e. a score in the k-th percentile would be above approximately k% of all scores in its set. For example, the 97th percentile of data is a data point below which 97% of all data points exist (by the exclusive definition). Percentiles depends on how scores are arranged. (Wikipedia)\n",
    "\n",
    "Cases:\n",
    "- Let's say we have an array that contains the ages of every person living on a street.\n",
    "    ```py\n",
    "    ages = [5,31,43,48,50,41,7,11,15,39,80,82,32,2,8,6,25,36,27,61,31] \n",
    "    ```\n",
    "\n",
    "    What is the 75. percentile? The answer is 43, meaning that 75% of the people are 43 or younger.\n",
    "\n",
    "    What is the age that 90% of the people are younger than?"
   ]
  },
  {
   "cell_type": "code",
   "execution_count": 1,
   "id": "59862f33",
   "metadata": {},
   "outputs": [
    {
     "data": {
      "text/plain": [
       "np.float64(43.0)"
      ]
     },
     "execution_count": 1,
     "metadata": {},
     "output_type": "execute_result"
    }
   ],
   "source": [
    "import numpy\n",
    "\n",
    "ages = [5,31,43,48,50,41,7,11,15,39,80,82,32,2,8,6,25,36,27,61,31] \n",
    "\n",
    "result = numpy.percentile(ages, 75)\n",
    "\n",
    "result"
   ]
  },
  {
   "cell_type": "code",
   "execution_count": 2,
   "id": "bfe40d63",
   "metadata": {},
   "outputs": [
    {
     "data": {
      "text/plain": [
       "np.float64(61.0)"
      ]
     },
     "execution_count": 2,
     "metadata": {},
     "output_type": "execute_result"
    }
   ],
   "source": [
    "# age that 90% of people are younger than\n",
    "\n",
    "result = numpy.percentile(ages, 90)\n",
    "\n",
    "result"
   ]
  }
 ],
 "metadata": {
  "kernelspec": {
   "display_name": ".venv",
   "language": "python",
   "name": "python3"
  },
  "language_info": {
   "codemirror_mode": {
    "name": "ipython",
    "version": 3
   },
   "file_extension": ".py",
   "mimetype": "text/x-python",
   "name": "python",
   "nbconvert_exporter": "python",
   "pygments_lexer": "ipython3",
   "version": "3.13.2"
  }
 },
 "nbformat": 4,
 "nbformat_minor": 5
}
