{
 "cells": [
  {
   "cell_type": "code",
   "execution_count": 1,
   "id": "a7fcb930",
   "metadata": {},
   "outputs": [],
   "source": [
    "import numpy\n",
    "\n",
    "actual = numpy.random.binomial(1, 0.9, size = 1000)\n",
    "predicted = numpy.random.binomial(1, 0.9, size = 1000)"
   ]
  },
  {
   "cell_type": "code",
   "execution_count": 3,
   "id": "bf677909",
   "metadata": {},
   "outputs": [],
   "source": [
    "from sklearn import metrics\n",
    "\n",
    "conf_matrix = metrics.confusion_matrix(actual, predicted)\n",
    "\n",
    "cm_display = metrics.ConfusionMatrixDisplay(confusion_matrix=conf_matrix, display_labels=[0, 1])"
   ]
  },
  {
   "cell_type": "code",
   "execution_count": 4,
   "id": "9c986c9c",
   "metadata": {},
   "outputs": [
    {
     "data": {
      "image/png": "[encoded data removed]",
      "text/plain": [
       "<Figure size 640x480 with 2 Axes>"
      ]
     },
     "metadata": {},
     "output_type": "display_data"
    }
   ],
   "source": [
    "import matplotlib.pyplot as plt\n",
    "\n",
    "cm_display.plot()\n",
    "plt.show()"
   ]
  },
  {
   "cell_type": "code",
   "execution_count": 5,
   "id": "dbd10d5e",
   "metadata": {},
   "outputs": [
    {
     "data": {
      "text/plain": [
       "0.807"
      ]
     },
     "execution_count": 5,
     "metadata": {},
     "output_type": "execute_result"
    }
   ],
   "source": [
    "Accuracy = metrics.accuracy_score(actual, predicted)\n",
    "\n",
    "Accuracy"
   ]
  },
  {
   "cell_type": "code",
   "execution_count": 6,
   "id": "972f52dc",
   "metadata": {},
   "outputs": [
    {
     "data": {
      "text/plain": [
       "0.8916201117318435"
      ]
     },
     "execution_count": 6,
     "metadata": {},
     "output_type": "execute_result"
    }
   ],
   "source": [
    "Precision = metrics.precision_score(actual, predicted)\n",
    "\n",
    "Precision"
   ]
  },
  {
   "cell_type": "code",
   "execution_count": 7,
   "id": "7e8db146",
   "metadata": {},
   "outputs": [
    {
     "data": {
      "text/plain": [
       "0.8926174496644296"
      ]
     },
     "execution_count": 7,
     "metadata": {},
     "output_type": "execute_result"
    }
   ],
   "source": [
    "Sensitivity_recall = metrics.recall_score(actual, predicted)\n",
    "\n",
    "Sensitivity_recall"
   ]
  },
  {
   "cell_type": "code",
   "execution_count": 8,
   "id": "43d270c4",
   "metadata": {},
   "outputs": [
    {
     "data": {
      "text/plain": [
       "0.08490566037735849"
      ]
     },
     "execution_count": 8,
     "metadata": {},
     "output_type": "execute_result"
    }
   ],
   "source": [
    "Specificity = metrics.recall_score(actual, predicted, pos_label=0)\n",
    "\n",
    "Specificity"
   ]
  },
  {
   "cell_type": "code",
   "execution_count": 9,
   "id": "e520ac64",
   "metadata": {},
   "outputs": [
    {
     "data": {
      "text/plain": [
       "0.8921185019564002"
      ]
     },
     "execution_count": 9,
     "metadata": {},
     "output_type": "execute_result"
    }
   ],
   "source": [
    "F1_score = metrics.f1_score(actual, predicted)\n",
    "\n",
    "F1_score"
   ]
  },
  {
   "cell_type": "code",
   "execution_count": 10,
   "id": "38a1c4f5",
   "metadata": {},
   "outputs": [
    {
     "name": "stdout",
     "output_type": "stream",
     "text": [
      "{'Accuracy': 0.807, 'Precision': 0.8916201117318435, 'Sensitivity_recall': 0.8926174496644296, 'Specificity': 0.08490566037735849, 'F1_score': 0.8921185019564002}\n"
     ]
    }
   ],
   "source": [
    "#metrics\n",
    "print({\"Accuracy\":Accuracy,\"Precision\":Precision,\"Sensitivity_recall\":Sensitivity_recall,\"Specificity\":Specificity,\"F1_score\":F1_score}) "
   ]
  }
 ],
 "metadata": {
  "kernelspec": {
   "display_name": ".venv",
   "language": "python",
   "name": "python3"
  },
  "language_info": {
   "codemirror_mode": {
    "name": "ipython",
    "version": 3
   },
   "file_extension": ".py",
   "mimetype": "text/x-python",
   "name": "python",
   "nbconvert_exporter": "python",
   "pygments_lexer": "ipython3",
   "version": "3.13.2"
  }
 },
 "nbformat": 4,
 "nbformat_minor": 5
}
